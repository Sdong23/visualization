{
 "cells": [
  {
   "cell_type": "code",
   "execution_count": null,
   "id": "6f3231aa",
   "metadata": {},
   "outputs": [],
   "source": [
    "# load libraries\n",
    "import numpy as np\n",
    "import matplotlib.pyplot as plt\n",
    "import pandas as pd\n",
    "import scipy \n",
    "import PIL\n",
    "import requests"
   ]
  },
  {
   "cell_type": "code",
   "execution_count": null,
   "id": "de2cdd0e",
   "metadata": {},
   "outputs": [],
   "source": [
    "# Make sample data\n",
    "np.random.seed(613)\n",
    "x = np.arange(50)\n",
    "y = np.random.randint(0, 100, 50)\n",
    "\n",
    "# Make figure\n",
    "fig, ax = plt.subplots(figsize = (5,3))\n",
    "ax.scatter(x, y)"
   ]
  },
  {
   "cell_type": "markdown",
   "id": "1acc002b",
   "metadata": {},
   "source": []
  }
 ],
 "metadata": {
  "kernelspec": {
   "display_name": "dsi_participant",
   "language": "python",
   "name": "python3"
  },
  "language_info": {
   "codemirror_mode": {
    "name": "ipython",
    "version": 3
   },
   "file_extension": ".py",
   "mimetype": "text/x-python",
   "name": "python",
   "nbconvert_exporter": "python",
   "pygments_lexer": "ipython3",
   "version": "3.9.15"
  }
 },
 "nbformat": 4,
 "nbformat_minor": 5
}
